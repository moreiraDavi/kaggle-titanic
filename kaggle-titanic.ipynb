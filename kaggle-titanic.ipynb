{
 "cells": [
  {
   "cell_type": "markdown",
   "id": "68a3c583",
   "metadata": {},
   "source": [
    "# 1 - Importar pandas para ler os arquivos CSV e transformar em data frames"
   ]
  },
  {
   "cell_type": "code",
   "execution_count": 1,
   "id": "73b516ed",
   "metadata": {},
   "outputs": [
    {
     "data": {
      "text/html": [
       "<div>\n",
       "<style scoped>\n",
       "    .dataframe tbody tr th:only-of-type {\n",
       "        vertical-align: middle;\n",
       "    }\n",
       "\n",
       "    .dataframe tbody tr th {\n",
       "        vertical-align: top;\n",
       "    }\n",
       "\n",
       "    .dataframe thead th {\n",
       "        text-align: right;\n",
       "    }\n",
       "</style>\n",
       "<table border=\"1\" class=\"dataframe\">\n",
       "  <thead>\n",
       "    <tr style=\"text-align: right;\">\n",
       "      <th></th>\n",
       "      <th>PassengerId</th>\n",
       "      <th>Survived</th>\n",
       "      <th>Pclass</th>\n",
       "      <th>Name</th>\n",
       "      <th>Sex</th>\n",
       "      <th>Age</th>\n",
       "      <th>SibSp</th>\n",
       "      <th>Parch</th>\n",
       "      <th>Ticket</th>\n",
       "      <th>Fare</th>\n",
       "      <th>Cabin</th>\n",
       "      <th>Embarked</th>\n",
       "    </tr>\n",
       "  </thead>\n",
       "  <tbody>\n",
       "    <tr>\n",
       "      <th>0</th>\n",
       "      <td>1</td>\n",
       "      <td>0</td>\n",
       "      <td>3</td>\n",
       "      <td>Braund, Mr. Owen Harris</td>\n",
       "      <td>male</td>\n",
       "      <td>22.0</td>\n",
       "      <td>1</td>\n",
       "      <td>0</td>\n",
       "      <td>A/5 21171</td>\n",
       "      <td>7.2500</td>\n",
       "      <td>NaN</td>\n",
       "      <td>S</td>\n",
       "    </tr>\n",
       "    <tr>\n",
       "      <th>1</th>\n",
       "      <td>2</td>\n",
       "      <td>1</td>\n",
       "      <td>1</td>\n",
       "      <td>Cumings, Mrs. John Bradley (Florence Briggs Th...</td>\n",
       "      <td>female</td>\n",
       "      <td>38.0</td>\n",
       "      <td>1</td>\n",
       "      <td>0</td>\n",
       "      <td>PC 17599</td>\n",
       "      <td>71.2833</td>\n",
       "      <td>C85</td>\n",
       "      <td>C</td>\n",
       "    </tr>\n",
       "    <tr>\n",
       "      <th>2</th>\n",
       "      <td>3</td>\n",
       "      <td>1</td>\n",
       "      <td>3</td>\n",
       "      <td>Heikkinen, Miss. Laina</td>\n",
       "      <td>female</td>\n",
       "      <td>26.0</td>\n",
       "      <td>0</td>\n",
       "      <td>0</td>\n",
       "      <td>STON/O2. 3101282</td>\n",
       "      <td>7.9250</td>\n",
       "      <td>NaN</td>\n",
       "      <td>S</td>\n",
       "    </tr>\n",
       "    <tr>\n",
       "      <th>3</th>\n",
       "      <td>4</td>\n",
       "      <td>1</td>\n",
       "      <td>1</td>\n",
       "      <td>Futrelle, Mrs. Jacques Heath (Lily May Peel)</td>\n",
       "      <td>female</td>\n",
       "      <td>35.0</td>\n",
       "      <td>1</td>\n",
       "      <td>0</td>\n",
       "      <td>113803</td>\n",
       "      <td>53.1000</td>\n",
       "      <td>C123</td>\n",
       "      <td>S</td>\n",
       "    </tr>\n",
       "    <tr>\n",
       "      <th>4</th>\n",
       "      <td>5</td>\n",
       "      <td>0</td>\n",
       "      <td>3</td>\n",
       "      <td>Allen, Mr. William Henry</td>\n",
       "      <td>male</td>\n",
       "      <td>35.0</td>\n",
       "      <td>0</td>\n",
       "      <td>0</td>\n",
       "      <td>373450</td>\n",
       "      <td>8.0500</td>\n",
       "      <td>NaN</td>\n",
       "      <td>S</td>\n",
       "    </tr>\n",
       "  </tbody>\n",
       "</table>\n",
       "</div>"
      ],
      "text/plain": [
       "   PassengerId  Survived  Pclass  \\\n",
       "0            1         0       3   \n",
       "1            2         1       1   \n",
       "2            3         1       3   \n",
       "3            4         1       1   \n",
       "4            5         0       3   \n",
       "\n",
       "                                                Name     Sex   Age  SibSp  \\\n",
       "0                            Braund, Mr. Owen Harris    male  22.0      1   \n",
       "1  Cumings, Mrs. John Bradley (Florence Briggs Th...  female  38.0      1   \n",
       "2                             Heikkinen, Miss. Laina  female  26.0      0   \n",
       "3       Futrelle, Mrs. Jacques Heath (Lily May Peel)  female  35.0      1   \n",
       "4                           Allen, Mr. William Henry    male  35.0      0   \n",
       "\n",
       "   Parch            Ticket     Fare Cabin Embarked  \n",
       "0      0         A/5 21171   7.2500   NaN        S  \n",
       "1      0          PC 17599  71.2833   C85        C  \n",
       "2      0  STON/O2. 3101282   7.9250   NaN        S  \n",
       "3      0            113803  53.1000  C123        S  \n",
       "4      0            373450   8.0500   NaN        S  "
      ]
     },
     "metadata": {},
     "output_type": "display_data"
    }
   ],
   "source": [
    "# Import pandas para ler o arquivo CSV\n",
    "import pandas as pd\n",
    "\n",
    "train_df = pd.read_csv(\"train.csv\")\n",
    "test_df = pd.read_csv(\"test.csv\")\n",
    "\n",
    "display(train_df.head())"
   ]
  },
  {
   "cell_type": "markdown",
   "id": "04e6b21f",
   "metadata": {},
   "source": [
    "# 2 - Ver tipos de dados e Valores Ausentes"
   ]
  },
  {
   "cell_type": "code",
   "execution_count": 2,
   "id": "c912b8ed",
   "metadata": {},
   "outputs": [
    {
     "name": "stdout",
     "output_type": "stream",
     "text": [
      "<class 'pandas.core.frame.DataFrame'>\n",
      "RangeIndex: 891 entries, 0 to 890\n",
      "Data columns (total 12 columns):\n",
      " #   Column       Non-Null Count  Dtype  \n",
      "---  ------       --------------  -----  \n",
      " 0   PassengerId  891 non-null    int64  \n",
      " 1   Survived     891 non-null    int64  \n",
      " 2   Pclass       891 non-null    int64  \n",
      " 3   Name         891 non-null    object \n",
      " 4   Sex          891 non-null    object \n",
      " 5   Age          714 non-null    float64\n",
      " 6   SibSp        891 non-null    int64  \n",
      " 7   Parch        891 non-null    int64  \n",
      " 8   Ticket       891 non-null    object \n",
      " 9   Fare         891 non-null    float64\n",
      " 10  Cabin        204 non-null    object \n",
      " 11  Embarked     889 non-null    object \n",
      "dtypes: float64(2), int64(5), object(5)\n",
      "memory usage: 83.7+ KB\n"
     ]
    },
    {
     "data": {
      "text/plain": [
       "None"
      ]
     },
     "metadata": {},
     "output_type": "display_data"
    },
    {
     "data": {
      "text/plain": [
       "PassengerId      0\n",
       "Survived         0\n",
       "Pclass           0\n",
       "Name             0\n",
       "Sex              0\n",
       "Age            177\n",
       "SibSp            0\n",
       "Parch            0\n",
       "Ticket           0\n",
       "Fare             0\n",
       "Cabin          687\n",
       "Embarked         2\n",
       "dtype: int64"
      ]
     },
     "metadata": {},
     "output_type": "display_data"
    }
   ],
   "source": [
    "# Ver tipos de dados\n",
    "display(train_df.info())\n",
    "\n",
    "# Ver valores ausentes\n",
    "display(train_df.isnull().sum())"
   ]
  },
  {
   "cell_type": "markdown",
   "id": "28e2bc14",
   "metadata": {},
   "source": [
    "# 3 - Tratar Valores Ausentes"
   ]
  },
  {
   "cell_type": "code",
   "execution_count": 3,
   "id": "5804f2c7",
   "metadata": {},
   "outputs": [
    {
     "name": "stderr",
     "output_type": "stream",
     "text": [
      "C:\\Users\\david\\AppData\\Local\\Temp\\ipykernel_11160\\2412341965.py:2: FutureWarning: A value is trying to be set on a copy of a DataFrame or Series through chained assignment using an inplace method.\n",
      "The behavior will change in pandas 3.0. This inplace method will never work because the intermediate object on which we are setting values always behaves as a copy.\n",
      "\n",
      "For example, when doing 'df[col].method(value, inplace=True)', try using 'df.method({col: value}, inplace=True)' or df[col] = df[col].method(value) instead, to perform the operation inplace on the original object.\n",
      "\n",
      "\n",
      "  train_df[\"Age\"].fillna(train_df[\"Age\"].median(), inplace=True)\n",
      "C:\\Users\\david\\AppData\\Local\\Temp\\ipykernel_11160\\2412341965.py:9: FutureWarning: A value is trying to be set on a copy of a DataFrame or Series through chained assignment using an inplace method.\n",
      "The behavior will change in pandas 3.0. This inplace method will never work because the intermediate object on which we are setting values always behaves as a copy.\n",
      "\n",
      "For example, when doing 'df[col].method(value, inplace=True)', try using 'df.method({col: value}, inplace=True)' or df[col] = df[col].method(value) instead, to perform the operation inplace on the original object.\n",
      "\n",
      "\n",
      "  train_df[\"Embarked\"].fillna(train_df[\"Embarked\"].mode()[0], inplace=True)\n"
     ]
    }
   ],
   "source": [
    "# Adicionar a linhas com a coluna \"Age\" faltando com o valor da mediana\n",
    "train_df[\"Age\"].fillna(train_df[\"Age\"].median(), inplace=True)\n",
    "\n",
    "# Remover a coluna \"Cabin\", pois ha mais de 70% das linhas com a coluna ausente\n",
    "if \"Cabin\" in train_df.columns:\n",
    "    train_df.drop(columns=\"Cabin\", inplace=True)\n",
    "\n",
    "# Preencher \"Embarked\" com o valor mais comum (moda)\n",
    "train_df[\"Embarked\"].fillna(train_df[\"Embarked\"].mode()[0], inplace=True)"
   ]
  },
  {
   "cell_type": "markdown",
   "id": "6817c172",
   "metadata": {},
   "source": [
    "# 4 - Transformar Variáveis Categóricas"
   ]
  },
  {
   "cell_type": "code",
   "execution_count": 4,
   "id": "d1daeb8e",
   "metadata": {},
   "outputs": [],
   "source": [
    "# Codificando a Coluna \"Sex\"\n",
    "train_df[\"Sex\"] = train_df[\"Sex\"].map({'male': 0, 'female':1})\n",
    "\n",
    "# Codificar \"Embarked\" em 3 novas colunas\n",
    "embarked_dummies = pd.get_dummies(train_df[\"Embarked\"], prefix=\"Embarked\")\n",
    "train_df = pd.concat([train_df, embarked_dummies], axis=1)\n",
    "\n",
    "train_df.drop(columns=\"Embarked\", inplace=True)\n"
   ]
  },
  {
   "cell_type": "code",
   "execution_count": 5,
   "id": "afdb74c8",
   "metadata": {},
   "outputs": [
    {
     "data": {
      "text/html": [
       "<div>\n",
       "<style scoped>\n",
       "    .dataframe tbody tr th:only-of-type {\n",
       "        vertical-align: middle;\n",
       "    }\n",
       "\n",
       "    .dataframe tbody tr th {\n",
       "        vertical-align: top;\n",
       "    }\n",
       "\n",
       "    .dataframe thead th {\n",
       "        text-align: right;\n",
       "    }\n",
       "</style>\n",
       "<table border=\"1\" class=\"dataframe\">\n",
       "  <thead>\n",
       "    <tr style=\"text-align: right;\">\n",
       "      <th></th>\n",
       "      <th>PassengerId</th>\n",
       "      <th>Survived</th>\n",
       "      <th>Pclass</th>\n",
       "      <th>Name</th>\n",
       "      <th>Sex</th>\n",
       "      <th>Age</th>\n",
       "      <th>SibSp</th>\n",
       "      <th>Parch</th>\n",
       "      <th>Ticket</th>\n",
       "      <th>Fare</th>\n",
       "      <th>Embarked_C</th>\n",
       "      <th>Embarked_Q</th>\n",
       "      <th>Embarked_S</th>\n",
       "    </tr>\n",
       "  </thead>\n",
       "  <tbody>\n",
       "    <tr>\n",
       "      <th>0</th>\n",
       "      <td>1</td>\n",
       "      <td>0</td>\n",
       "      <td>3</td>\n",
       "      <td>Braund, Mr. Owen Harris</td>\n",
       "      <td>0</td>\n",
       "      <td>22.0</td>\n",
       "      <td>1</td>\n",
       "      <td>0</td>\n",
       "      <td>A/5 21171</td>\n",
       "      <td>7.2500</td>\n",
       "      <td>0</td>\n",
       "      <td>0</td>\n",
       "      <td>1</td>\n",
       "    </tr>\n",
       "    <tr>\n",
       "      <th>1</th>\n",
       "      <td>2</td>\n",
       "      <td>1</td>\n",
       "      <td>1</td>\n",
       "      <td>Cumings, Mrs. John Bradley (Florence Briggs Th...</td>\n",
       "      <td>1</td>\n",
       "      <td>38.0</td>\n",
       "      <td>1</td>\n",
       "      <td>0</td>\n",
       "      <td>PC 17599</td>\n",
       "      <td>71.2833</td>\n",
       "      <td>1</td>\n",
       "      <td>0</td>\n",
       "      <td>0</td>\n",
       "    </tr>\n",
       "    <tr>\n",
       "      <th>2</th>\n",
       "      <td>3</td>\n",
       "      <td>1</td>\n",
       "      <td>3</td>\n",
       "      <td>Heikkinen, Miss. Laina</td>\n",
       "      <td>1</td>\n",
       "      <td>26.0</td>\n",
       "      <td>0</td>\n",
       "      <td>0</td>\n",
       "      <td>STON/O2. 3101282</td>\n",
       "      <td>7.9250</td>\n",
       "      <td>0</td>\n",
       "      <td>0</td>\n",
       "      <td>1</td>\n",
       "    </tr>\n",
       "    <tr>\n",
       "      <th>3</th>\n",
       "      <td>4</td>\n",
       "      <td>1</td>\n",
       "      <td>1</td>\n",
       "      <td>Futrelle, Mrs. Jacques Heath (Lily May Peel)</td>\n",
       "      <td>1</td>\n",
       "      <td>35.0</td>\n",
       "      <td>1</td>\n",
       "      <td>0</td>\n",
       "      <td>113803</td>\n",
       "      <td>53.1000</td>\n",
       "      <td>0</td>\n",
       "      <td>0</td>\n",
       "      <td>1</td>\n",
       "    </tr>\n",
       "    <tr>\n",
       "      <th>4</th>\n",
       "      <td>5</td>\n",
       "      <td>0</td>\n",
       "      <td>3</td>\n",
       "      <td>Allen, Mr. William Henry</td>\n",
       "      <td>0</td>\n",
       "      <td>35.0</td>\n",
       "      <td>0</td>\n",
       "      <td>0</td>\n",
       "      <td>373450</td>\n",
       "      <td>8.0500</td>\n",
       "      <td>0</td>\n",
       "      <td>0</td>\n",
       "      <td>1</td>\n",
       "    </tr>\n",
       "  </tbody>\n",
       "</table>\n",
       "</div>"
      ],
      "text/plain": [
       "   PassengerId  Survived  Pclass  \\\n",
       "0            1         0       3   \n",
       "1            2         1       1   \n",
       "2            3         1       3   \n",
       "3            4         1       1   \n",
       "4            5         0       3   \n",
       "\n",
       "                                                Name  Sex   Age  SibSp  Parch  \\\n",
       "0                            Braund, Mr. Owen Harris    0  22.0      1      0   \n",
       "1  Cumings, Mrs. John Bradley (Florence Briggs Th...    1  38.0      1      0   \n",
       "2                             Heikkinen, Miss. Laina    1  26.0      0      0   \n",
       "3       Futrelle, Mrs. Jacques Heath (Lily May Peel)    1  35.0      1      0   \n",
       "4                           Allen, Mr. William Henry    0  35.0      0      0   \n",
       "\n",
       "             Ticket     Fare  Embarked_C  Embarked_Q  Embarked_S  \n",
       "0         A/5 21171   7.2500           0           0           1  \n",
       "1          PC 17599  71.2833           1           0           0  \n",
       "2  STON/O2. 3101282   7.9250           0           0           1  \n",
       "3            113803  53.1000           0           0           1  \n",
       "4            373450   8.0500           0           0           1  "
      ]
     },
     "metadata": {},
     "output_type": "display_data"
    }
   ],
   "source": [
    "train_df[['Embarked_C', 'Embarked_Q', 'Embarked_S']] = train_df[['Embarked_C', 'Embarked_Q', 'Embarked_S']].astype(int)\n",
    "\n",
    "display(train_df.head())"
   ]
  },
  {
   "cell_type": "markdown",
   "id": "888b7f9a",
   "metadata": {},
   "source": [
    "# 5 - Separar dados para treinamento e teste do modelo"
   ]
  },
  {
   "cell_type": "code",
   "execution_count": 6,
   "id": "a85f94b0",
   "metadata": {},
   "outputs": [],
   "source": [
    "from sklearn.model_selection import train_test_split\n",
    "\n",
    "# Variáel a ser prevista\n",
    "y = train_df[\"Survived\"]\n",
    "\n",
    "# Entradas (Tirando colunas que não iriam auxiliar o modelo a prever)\n",
    "X = train_df.drop(columns=['Survived', 'PassengerId', 'Name', 'Ticket'])\n",
    "\n",
    "# dividindo o dataframe pra treinamento e teste\n",
    "\n",
    "X_train, X_test, y_train, y_test = train_test_split(\n",
    "    X,y, test_size=0.2, random_state=42\n",
    ")"
   ]
  },
  {
   "cell_type": "markdown",
   "id": "269e1d9d",
   "metadata": {},
   "source": [
    "# 6 - Treino e Teste do modelo (RandomForestClassifier)"
   ]
  },
  {
   "cell_type": "code",
   "execution_count": 15,
   "id": "040cc1db",
   "metadata": {},
   "outputs": [
    {
     "name": "stdout",
     "output_type": "stream",
     "text": [
      "Acuracia: 0.8100558659217877\n",
      "Matriz Confusão:\n",
      "[[88 17]\n",
      " [17 57]]\n",
      "Relatório de Classificação:\n",
      "              precision    recall  f1-score   support\n",
      "\n",
      "           0       0.84      0.84      0.84       105\n",
      "           1       0.77      0.77      0.77        74\n",
      "\n",
      "    accuracy                           0.81       179\n",
      "   macro avg       0.80      0.80      0.80       179\n",
      "weighted avg       0.81      0.81      0.81       179\n",
      "\n"
     ]
    }
   ],
   "source": [
    "# Import do modelo\n",
    "from sklearn.ensemble import RandomForestClassifier\n",
    "from sklearn.metrics import accuracy_score, confusion_matrix, classification_report\n",
    "\n",
    "# Criação e treinamento do modelo\n",
    "modelo = RandomForestClassifier(random_state=42)\n",
    "modelo.fit(X_train, y_train)\n",
    "\n",
    "# Teste\n",
    "y_pred = modelo.predict(X_test)\n",
    "\n",
    "print(\"Acuracia:\", accuracy_score(y_test, y_pred))\n",
    "print(\"Matriz Confusão:\")\n",
    "print(confusion_matrix(y_test, y_pred))\n",
    "print(\"Relatório de Classificação:\")\n",
    "print(classification_report(y_test, y_pred))"
   ]
  },
  {
   "cell_type": "markdown",
   "id": "096b1395",
   "metadata": {},
   "source": [
    "# 7 - Visualização da importância das fetures no Random Forest"
   ]
  },
  {
   "cell_type": "code",
   "execution_count": 14,
   "id": "c6208054",
   "metadata": {},
   "outputs": [
    {
     "data": {
      "text/html": [
       "<div>\n",
       "<style scoped>\n",
       "    .dataframe tbody tr th:only-of-type {\n",
       "        vertical-align: middle;\n",
       "    }\n",
       "\n",
       "    .dataframe tbody tr th {\n",
       "        vertical-align: top;\n",
       "    }\n",
       "\n",
       "    .dataframe thead th {\n",
       "        text-align: right;\n",
       "    }\n",
       "</style>\n",
       "<table border=\"1\" class=\"dataframe\">\n",
       "  <thead>\n",
       "    <tr style=\"text-align: right;\">\n",
       "      <th></th>\n",
       "      <th>Feature</th>\n",
       "      <th>Importância</th>\n",
       "    </tr>\n",
       "  </thead>\n",
       "  <tbody>\n",
       "    <tr>\n",
       "      <th>1</th>\n",
       "      <td>Sex</td>\n",
       "      <td>0.279648</td>\n",
       "    </tr>\n",
       "    <tr>\n",
       "      <th>5</th>\n",
       "      <td>Fare</td>\n",
       "      <td>0.256427</td>\n",
       "    </tr>\n",
       "    <tr>\n",
       "      <th>2</th>\n",
       "      <td>Age</td>\n",
       "      <td>0.251878</td>\n",
       "    </tr>\n",
       "    <tr>\n",
       "      <th>0</th>\n",
       "      <td>Pclass</td>\n",
       "      <td>0.091026</td>\n",
       "    </tr>\n",
       "    <tr>\n",
       "      <th>3</th>\n",
       "      <td>SibSp</td>\n",
       "      <td>0.047176</td>\n",
       "    </tr>\n",
       "    <tr>\n",
       "      <th>4</th>\n",
       "      <td>Parch</td>\n",
       "      <td>0.035335</td>\n",
       "    </tr>\n",
       "    <tr>\n",
       "      <th>8</th>\n",
       "      <td>Embarked_S</td>\n",
       "      <td>0.015578</td>\n",
       "    </tr>\n",
       "    <tr>\n",
       "      <th>6</th>\n",
       "      <td>Embarked_C</td>\n",
       "      <td>0.013317</td>\n",
       "    </tr>\n",
       "    <tr>\n",
       "      <th>7</th>\n",
       "      <td>Embarked_Q</td>\n",
       "      <td>0.009614</td>\n",
       "    </tr>\n",
       "  </tbody>\n",
       "</table>\n",
       "</div>"
      ],
      "text/plain": [
       "      Feature  Importância\n",
       "1         Sex     0.279648\n",
       "5        Fare     0.256427\n",
       "2         Age     0.251878\n",
       "0      Pclass     0.091026\n",
       "3       SibSp     0.047176\n",
       "4       Parch     0.035335\n",
       "8  Embarked_S     0.015578\n",
       "6  Embarked_C     0.013317\n",
       "7  Embarked_Q     0.009614"
      ]
     },
     "metadata": {},
     "output_type": "display_data"
    },
    {
     "data": {
      "image/png": "[encoded data removed]",
      "text/plain": [
       "<Figure size 1000x600 with 1 Axes>"
      ]
     },
     "metadata": {},
     "output_type": "display_data"
    }
   ],
   "source": [
    "import matplotlib.pyplot as plt\n",
    "\n",
    "# importancia das features\n",
    "importancias = modelo.feature_importances_\n",
    "\n",
    "# nome das colunas usadas no modelo\n",
    "nomes_colunas = X.columns\n",
    "\n",
    "# Criação de dataframe para visualização\n",
    "df_importancia = pd.DataFrame({\n",
    "    'Feature': nomes_colunas,\n",
    "    'Importância': importancias,\n",
    "}).sort_values(by='Importância', ascending=False)\n",
    "\n",
    "# Exibe como tabela\n",
    "display(df_importancia)\n",
    "\n",
    "# Exibe Gráfico\n",
    "plt.figure(figsize=(10,6))\n",
    "plt.barh(df_importancia['Feature'], df_importancia['Importância'])\n",
    "plt.xlabel('Importância')\n",
    "plt.title('Importância das Features - Random Forest')\n",
    "plt.gca().invert_yaxis()  #Coloca as mais importantes no topo\n",
    "plt.show()"
   ]
  },
  {
   "cell_type": "markdown",
   "id": "3701eaf3",
   "metadata": {},
   "source": [
    "# 8 - Testes com submodelos\n",
    "\n",
    "* Teste para tabela sem as colunas 'Embarked'"
   ]
  },
  {
   "cell_type": "code",
   "execution_count": 13,
   "id": "2a4c4c82",
   "metadata": {},
   "outputs": [
    {
     "name": "stdout",
     "output_type": "stream",
     "text": [
      "Acurácia (sem Sex e Embarked): 0.8044692737430168\n",
      "              precision    recall  f1-score   support\n",
      "\n",
      "           0       0.82      0.86      0.84       105\n",
      "           1       0.78      0.73      0.76        74\n",
      "\n",
      "    accuracy                           0.80       179\n",
      "   macro avg       0.80      0.79      0.80       179\n",
      "weighted avg       0.80      0.80      0.80       179\n",
      "\n"
     ]
    }
   ],
   "source": [
    "# Remove features de baixa importância\n",
    "X_reduzido = X.drop(columns=['Embarked_C', 'Embarked_Q', 'Embarked_S'])\n",
    "\n",
    "# Divide de novo\n",
    "X_train_r, X_test_r, y_train_r, y_test_r = train_test_split(\n",
    "    X_reduzido, y, test_size=0.2, random_state=42\n",
    ")\n",
    "\n",
    "# Treina novo modelo\n",
    "modelo_reduzido = RandomForestClassifier(random_state=42)\n",
    "modelo_reduzido.fit(X_train_r, y_train_r)\n",
    "\n",
    "# Avalia\n",
    "y_pred_r = modelo_reduzido.predict(X_test_r)\n",
    "\n",
    "from sklearn.metrics import accuracy_score, classification_report\n",
    "print(\"Acurácia (sem Sex e Embarked):\", accuracy_score(y_test_r, y_pred_r))\n",
    "print(classification_report(y_test_r, y_pred_r))\n"
   ]
  },
  {
   "cell_type": "markdown",
   "id": "83101586",
   "metadata": {},
   "source": [
    "Aqui observa-se uma leve queda na acurácia do modelo. Apesar da aparente baixa importância dessas colunas o modelo reagiu mal com as alterações."
   ]
  },
  {
   "cell_type": "markdown",
   "id": "80562884",
   "metadata": {},
   "source": [
    "* Teste com novas variáveis"
   ]
  },
  {
   "cell_type": "code",
   "execution_count": 10,
   "id": "026e1a80",
   "metadata": {},
   "outputs": [],
   "source": [
    "from sklearn.preprocessing import LabelEncoder\n",
    "\n",
    "titanic_novo = train_df.copy()\n",
    "\n",
    "# Extrai título dos nomes, para verificar se pessoas de classe com algum título foram priorizadas na fuga do navio\n",
    "titanic_novo['Title'] = titanic_novo['Name'].str.extract(r' ([A-Za-z]+)\\. ', expand=False)\n",
    "titanic_novo['Title'] = titanic_novo['Title'].replace(['Lady', 'Countess', 'Capt', 'Col', 'Don', 'Dr', 'Major', 'Rev', 'Sir', 'Jonkheer', 'Dona'], 'Rare')\n",
    "\n",
    "titanic_novo['Title'] = titanic_novo['Title'].replace({'Mlle': 'Miss', 'Ms': 'Miss', 'Mme': 'Mrs'})\n",
    "titanic_novo['Title'] = LabelEncoder().fit_transform(titanic_novo['Title'])\n",
    "\n",
    "# Novas features\n",
    "titanic_novo['FamilySize'] = titanic_novo['SibSp'] + titanic_novo['Parch'] + 1\n",
    "titanic_novo['IsAlone'] = (titanic_novo['FamilySize'] == 1).astype(int)"
   ]
  },
  {
   "cell_type": "markdown",
   "id": "3ad3acf1",
   "metadata": {},
   "source": [
    "* Preparação de dados para submodelo"
   ]
  },
  {
   "cell_type": "code",
   "execution_count": 11,
   "id": "602732fd",
   "metadata": {},
   "outputs": [],
   "source": [
    "# Define as colunas a usar (inclusive novas)\n",
    "features_novas = ['Pclass', 'Sex', 'Age', 'Fare', 'Title', 'FamilySize', 'IsAlone']\n",
    "df_subteste = titanic_novo[features_novas + ['Survived']].copy()\n",
    "\n",
    "# Codificação de variáveis categóricas\n",
    "df_subteste = pd.get_dummies(df_subteste, columns=['Sex'], drop_first=True)\n",
    "\n",
    "# Separação\n",
    "X_novo = df_subteste.drop('Survived', axis=1)\n",
    "y_novo = df_subteste['Survived']"
   ]
  },
  {
   "cell_type": "markdown",
   "id": "76ca779c",
   "metadata": {},
   "source": [
    "* Teste do submodelo"
   ]
  },
  {
   "cell_type": "code",
   "execution_count": 12,
   "id": "1d592f3f",
   "metadata": {},
   "outputs": [
    {
     "data": {
      "text/plain": [
       "'Acurácia do subteste com novas variáveis:'"
      ]
     },
     "metadata": {},
     "output_type": "display_data"
    },
    {
     "data": {
      "text/plain": [
       "0.8212290502793296"
      ]
     },
     "metadata": {},
     "output_type": "display_data"
    }
   ],
   "source": [
    "Xn_train, Xn_test, yn_train, yn_test = train_test_split(X_novo, y_novo, test_size=0.2, stratify=y_novo, random_state=42)\n",
    "\n",
    "modelo_novo = RandomForestClassifier(n_estimators=100, random_state=42)\n",
    "modelo_novo.fit(Xn_train, yn_train)\n",
    "\n",
    "yn_pred = modelo_novo.predict(Xn_test)\n",
    "display('Acurácia do subteste com novas variáveis:', accuracy_score(yn_test, yn_pred))"
   ]
  },
  {
   "cell_type": "markdown",
   "id": "d5fb9749",
   "metadata": {},
   "source": [
    "# Voltando para o EDA\n",
    "\n",
    "* Verificando relação entre gênero, classe de ticket e a variável 'Survived'"
   ]
  },
  {
   "cell_type": "code",
   "execution_count": null,
   "id": "385428b9",
   "metadata": {},
   "outputs": [],
   "source": [
    "fig = plt.figure(figsize=(16,8))\n",
    "a = 0.65\n",
    "\n",
    "# Mulheres de classe alta\n",
    "ax1 = fig.add_subplot(2,2,1)\n",
    "f_high = train_df[(train_df['Sex'] == 1) & (train_df['Pclass'] != 3)]\n",
    "f_high['Survived']"
   ]
  }
 ],
 "metadata": {
  "kernelspec": {
   "display_name": "Python 3",
   "language": "python",
   "name": "python3"
  },
  "language_info": {
   "codemirror_mode": {
    "name": "ipython",
    "version": 3
   },
   "file_extension": ".py",
   "mimetype": "text/x-python",
   "name": "python",
   "nbconvert_exporter": "python",
   "pygments_lexer": "ipython3",
   "version": "3.13.2"
  }
 },
 "nbformat": 4,
 "nbformat_minor": 5
}
