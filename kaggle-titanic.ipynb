{
 "cells": [
  {
   "cell_type": "markdown",
   "id": "68a3c583",
   "metadata": {},
   "source": [
    "# 1 - Importar pandas para ler os arquivos CSV e transformar em data frames"
   ]
  },
  {
   "cell_type": "code",
   "execution_count": null,
   "id": "73b516ed",
   "metadata": {},
   "outputs": [],
   "source": [
    "# Import pandas para ler o arquivo CSV\n",
    "import pandas as pd\n",
    "\n",
    "train_df = pd.read_csv(\"train.csv\")\n",
    "test_df = pd.read_csv(\"test.csv\")\n",
    "\n",
    "display(train_df.head())"
   ]
  },
  {
   "cell_type": "markdown",
   "id": "04e6b21f",
   "metadata": {},
   "source": [
    "# 2 - Ver tipos de dados e Valores Ausentes"
   ]
  },
  {
   "cell_type": "code",
   "execution_count": null,
   "id": "c912b8ed",
   "metadata": {},
   "outputs": [],
   "source": [
    "# Ver tipos de dados\n",
    "display(train_df.info())\n",
    "\n",
    "# Ver valores ausentes\n",
    "display(train_df.isnull().sum())"
   ]
  },
  {
   "cell_type": "markdown",
   "id": "28e2bc14",
   "metadata": {},
   "source": [
    "# 3 - Tratar Valores Ausentes"
   ]
  },
  {
   "cell_type": "code",
   "execution_count": null,
   "id": "5804f2c7",
   "metadata": {},
   "outputs": [],
   "source": [
    "# Adicionar a linhas com a coluna \"Age\" faltando com o valor da mediana\n",
    "train_df[\"Age\"].fillna(train_df[\"Age\"].median(), inplace=True)\n",
    "\n",
    "# Remover a coluna \"Cabin\", pois ha mais de 70% das linhas com a coluna ausente\n",
    "if \"Cabin\" in train_df.columns:\n",
    "    train_df.drop(columns=\"Cabin\", inplace=True)\n",
    "\n",
    "# Preencher \"Embarked\" com o valor mais comum (moda)\n",
    "train_df[\"Embarked\"].fillna(train_df[\"Embarked\"].mode()[0], inplace=True)"
   ]
  },
  {
   "cell_type": "markdown",
   "id": "6817c172",
   "metadata": {},
   "source": [
    "# 4 - Transformar Variáveis Categóricas"
   ]
  },
  {
   "cell_type": "code",
   "execution_count": null,
   "id": "d1daeb8e",
   "metadata": {},
   "outputs": [],
   "source": [
    "# Codificando a Coluna \"Sex\"\n",
    "train_df[\"Sex\"] = train_df[\"Sex\"].map({'male': 0, 'female':1})\n",
    "\n",
    "# Codificar \"Embarked\" em 3 novas colunas\n",
    "embarked_dummies = pd.get_dummies(train_df[\"Embarked\"], prefix=\"Embarked\")\n",
    "train_df = pd.concat([train_df, embarked_dummies], axis=1)\n",
    "\n",
    "train_df.drop(columns=\"Embarked\", inplace=True)\n"
   ]
  },
  {
   "cell_type": "code",
   "execution_count": null,
   "id": "afdb74c8",
   "metadata": {},
   "outputs": [],
   "source": [
    "train_df[['Embarked_C', 'Embarked_Q', 'Embarked_S']] = train_df[['Embarked_C', 'Embarked_Q', 'Embarked_S']].astype(int)\n",
    "\n",
    "display(train_df.head())"
   ]
  },
  {
   "cell_type": "markdown",
   "id": "888b7f9a",
   "metadata": {},
   "source": [
    "# 5 - Separar dados para treinamento e teste do modelo"
   ]
  },
  {
   "cell_type": "code",
   "execution_count": null,
   "id": "a85f94b0",
   "metadata": {},
   "outputs": [],
   "source": [
    "from sklearn.model_selection import train_test_split\n",
    "\n",
    "# Variáel a ser prevista\n",
    "y = train_df[\"Survived\"]\n",
    "\n",
    "# Entradas (Tirando colunas que não iriam auxiliar o modelo a prever)\n",
    "X = train_df.drop(columns=['Survived', 'PassengerId', 'Name', 'Ticket'])\n",
    "\n",
    "# dividindo o dataframe pra treinamento e teste\n",
    "\n",
    "X_train, X_test, y_train, y_test = train_test_split(\n",
    "    X,y, test_size=0.2, random_state=42\n",
    ")"
   ]
  },
  {
   "cell_type": "markdown",
   "id": "269e1d9d",
   "metadata": {},
   "source": [
    "# 6 - Treino e Teste do modelo (RandomForestClassifier)"
   ]
  },
  {
   "cell_type": "code",
   "execution_count": null,
   "id": "040cc1db",
   "metadata": {},
   "outputs": [],
   "source": [
    "# Import do modelo\n",
    "from sklearn.ensemble import RandomForestClassifier\n",
    "from sklearn.metrics import accuracy_score, confusion_matrix, classification_report\n",
    "\n",
    "# Criação e treinamento do modelo\n",
    "modelo = RandomForestClassifier(random_state=42)\n",
    "modelo.fit(X_train, y_train)\n",
    "\n",
    "# Teste\n",
    "y_pred = modelo.predict(X_test)\n",
    "\n",
    "print(\"Acuracia:\", accuracy_score(y_test, y_pred))\n",
    "print(\"Matriz Confusão:\")\n",
    "print(confusion_matrix(y_test, y_pred))\n",
    "print(\"Relatório de Classificação:\")\n",
    "print(classification_report(y_test, y_pred))"
   ]
  },
  {
   "cell_type": "markdown",
   "id": "096b1395",
   "metadata": {},
   "source": [
    "# 7 - Visualização da importância das fetures no Random Forest"
   ]
  },
  {
   "cell_type": "code",
   "execution_count": null,
   "id": "c6208054",
   "metadata": {},
   "outputs": [],
   "source": [
    "import matplotlib.pyplot as plt\n",
    "\n",
    "# importancia das features\n",
    "importancias = modelo.feature_importances_\n",
    "\n",
    "# nome das colunas usadas no modelo\n",
    "nomes_colunas = X.columns\n",
    "\n",
    "# Criação de dataframe para visualização\n",
    "df_importancia = pd.DataFrame({\n",
    "    'Feature': nomes_colunas,\n",
    "    'Importância': importancias,\n",
    "}).sort_values(by='Importância', ascending=False)\n",
    "\n",
    "# Exibe como tabela\n",
    "display(df_importancia)\n",
    "\n",
    "# Exibe Gráfico\n",
    "plt.figure(figsize=(10,6))\n",
    "plt.barh(df_importancia['Feature'], df_importancia['Importância'])\n",
    "plt.xlabel('Importância')\n",
    "plt.title('Importância das Features - Random Forest')\n",
    "plt.gca().invert_yaxis()  #Coloca as mais importantes no topo\n",
    "plt.show()"
   ]
  },
  {
   "cell_type": "markdown",
   "id": "3701eaf3",
   "metadata": {},
   "source": [
    "* Teste para tabela sem as colunas 'Sex' e 'Embarked'"
   ]
  },
  {
   "cell_type": "code",
   "execution_count": null,
   "id": "2a4c4c82",
   "metadata": {},
   "outputs": [],
   "source": [
    "# Remove features de baixa importância\n",
    "X_reduzido = X.drop(columns=['Sex', 'Embarked_C', 'Embarked_Q', 'Embarked_S'])\n",
    "\n",
    "# Divide de novo\n",
    "X_train_r, X_test_r, y_train_r, y_test_r = train_test_split(\n",
    "    X_reduzido, y, test_size=0.2, random_state=42\n",
    ")\n",
    "\n",
    "# Treina novo modelo\n",
    "modelo_reduzido = RandomForestClassifier(random_state=42)\n",
    "modelo_reduzido.fit(X_train_r, y_train_r)\n",
    "\n",
    "# Avalia\n",
    "y_pred_r = modelo_reduzido.predict(X_test_r)\n",
    "\n",
    "from sklearn.metrics import accuracy_score, classification_report\n",
    "print(\"Acurácia (sem Sex e Embarked):\", accuracy_score(y_test_r, y_pred_r))\n",
    "print(classification_report(y_test_r, y_pred_r))\n"
   ]
  },
  {
   "cell_type": "markdown",
   "id": "83101586",
   "metadata": {},
   "source": [
    "Aqui observa-se uma leve queda na acurácia do modelo. Apesar da aparente baixa importância dessas colunas o modelo reagiu mal com as alterações."
   ]
  },
  {
   "cell_type": "markdown",
   "id": "b08fc314",
   "metadata": {},
   "source": []
  }
 ],
 "metadata": {
  "kernelspec": {
   "display_name": "Python 3",
   "language": "python",
   "name": "python3"
  },
  "language_info": {
   "codemirror_mode": {
    "name": "ipython",
    "version": 3
   },
   "file_extension": ".py",
   "mimetype": "text/x-python",
   "name": "python",
   "nbconvert_exporter": "python",
   "pygments_lexer": "ipython3",
   "version": "3.13.2"
  }
 },
 "nbformat": 4,
 "nbformat_minor": 5
}
